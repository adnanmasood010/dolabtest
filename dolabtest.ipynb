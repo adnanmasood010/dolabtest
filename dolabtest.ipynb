{
  "nbformat": 4,
  "nbformat_minor": 0,
  "metadata": {
    "colab": {
      "provenance": [],
      "mount_file_id": "1mvvjB0TNhKC6CdVmd0fn7lMDy1zscDPh",
      "authorship_tag": "ABX9TyNV9e2QSOn5ffm3vm/XqkR+",
      "include_colab_link": true
    },
    "kernelspec": {
      "name": "python3",
      "display_name": "Python 3"
    },
    "language_info": {
      "name": "python"
    }
  },
  "cells": [
    {
      "cell_type": "markdown",
      "metadata": {
        "id": "view-in-github",
        "colab_type": "text"
      },
      "source": [
        "<a href=\"https://colab.research.google.com/github/adnanmasood010/dolabtest/blob/main/dolabtest.ipynb\" target=\"_parent\"><img src=\"https://colab.research.google.com/assets/colab-badge.svg\" alt=\"Open In Colab\"/></a>"
      ]
    },
    {
      "cell_type": "markdown",
      "source": [
        "#Adnan 24bcahh010010"
      ],
      "metadata": {
        "id": "2GVzwxlGrXdg"
      }
    },
    {
      "cell_type": "code",
      "execution_count": 1,
      "metadata": {
        "colab": {
          "base_uri": "https://localhost:8080/"
        },
        "id": "icFmlpTyrOWs",
        "outputId": "9a501811-6f33-45bd-ddb6-2a7e3e295274"
      },
      "outputs": [
        {
          "output_type": "stream",
          "name": "stdout",
          "text": [
            "Mounted at /content/drive\n"
          ]
        }
      ],
      "source": [
        "from google.colab import drive\n",
        "drive.mount('/content/drive')\n",
        "\n"
      ]
    },
    {
      "cell_type": "code",
      "source": [
        "import pandas as pd\n",
        "df = pd.read_excel('/content/drive/MyDrive/cleaned_even.xlsx')"
      ],
      "metadata": {
        "id": "NzoBgUe7sHls"
      },
      "execution_count": 2,
      "outputs": []
    },
    {
      "cell_type": "code",
      "source": [
        " # question 1 average cost for each destination\n",
        "df.groupby('Destination')['Total_Cost'].mean()"
      ],
      "metadata": {
        "colab": {
          "base_uri": "https://localhost:8080/",
          "height": 490
        },
        "id": "aQ2Q3pFrssCq",
        "outputId": "66f5e8e7-2f13-4a97-e64d-fde97c3e6139"
      },
      "execution_count": 3,
      "outputs": [
        {
          "output_type": "execute_result",
          "data": {
            "text/plain": [
              "Destination\n",
              "ALBANIA           73664.210000\n",
              "ALEJANDROSHIRE    78168.730000\n",
              "ARUBA              8573.290000\n",
              "Adamsbury         22309.600000\n",
              "Adamsfurt         15705.440000\n",
              "                      ...     \n",
              "Zacharyberg       41751.850000\n",
              "Zambia            20658.930000\n",
              "Zamoramouth       84404.310000\n",
              "Zimbabwe          31329.406667\n",
              "Zimmermantown     59139.600000\n",
              "Name: Total_Cost, Length: 858, dtype: float64"
            ],
            "text/html": [
              "<div>\n",
              "<style scoped>\n",
              "    .dataframe tbody tr th:only-of-type {\n",
              "        vertical-align: middle;\n",
              "    }\n",
              "\n",
              "    .dataframe tbody tr th {\n",
              "        vertical-align: top;\n",
              "    }\n",
              "\n",
              "    .dataframe thead th {\n",
              "        text-align: right;\n",
              "    }\n",
              "</style>\n",
              "<table border=\"1\" class=\"dataframe\">\n",
              "  <thead>\n",
              "    <tr style=\"text-align: right;\">\n",
              "      <th></th>\n",
              "      <th>Total_Cost</th>\n",
              "    </tr>\n",
              "    <tr>\n",
              "      <th>Destination</th>\n",
              "      <th></th>\n",
              "    </tr>\n",
              "  </thead>\n",
              "  <tbody>\n",
              "    <tr>\n",
              "      <th>ALBANIA</th>\n",
              "      <td>73664.210000</td>\n",
              "    </tr>\n",
              "    <tr>\n",
              "      <th>ALEJANDROSHIRE</th>\n",
              "      <td>78168.730000</td>\n",
              "    </tr>\n",
              "    <tr>\n",
              "      <th>ARUBA</th>\n",
              "      <td>8573.290000</td>\n",
              "    </tr>\n",
              "    <tr>\n",
              "      <th>Adamsbury</th>\n",
              "      <td>22309.600000</td>\n",
              "    </tr>\n",
              "    <tr>\n",
              "      <th>Adamsfurt</th>\n",
              "      <td>15705.440000</td>\n",
              "    </tr>\n",
              "    <tr>\n",
              "      <th>...</th>\n",
              "      <td>...</td>\n",
              "    </tr>\n",
              "    <tr>\n",
              "      <th>Zacharyberg</th>\n",
              "      <td>41751.850000</td>\n",
              "    </tr>\n",
              "    <tr>\n",
              "      <th>Zambia</th>\n",
              "      <td>20658.930000</td>\n",
              "    </tr>\n",
              "    <tr>\n",
              "      <th>Zamoramouth</th>\n",
              "      <td>84404.310000</td>\n",
              "    </tr>\n",
              "    <tr>\n",
              "      <th>Zimbabwe</th>\n",
              "      <td>31329.406667</td>\n",
              "    </tr>\n",
              "    <tr>\n",
              "      <th>Zimmermantown</th>\n",
              "      <td>59139.600000</td>\n",
              "    </tr>\n",
              "  </tbody>\n",
              "</table>\n",
              "<p>858 rows × 1 columns</p>\n",
              "</div><br><label><b>dtype:</b> float64</label>"
            ]
          },
          "metadata": {},
          "execution_count": 3
        }
      ]
    },
    {
      "cell_type": "code",
      "source": [
        "#question 2 distribution of payment methods\n",
        "count = df['Payment_Method'].value_counts()\n",
        "\n",
        "import matplotlib.pyplot as plt\n",
        "\n",
        "count.plot(kind='bar')\n",
        "plt.xlabel('method')\n",
        "plt.ylabel('customers')\n",
        "plt.title('Payments Method Distribution')\n",
        "plt.show()"
      ],
      "metadata": {
        "colab": {
          "base_uri": "https://localhost:8080/",
          "height": 553
        },
        "id": "UaRBePXdszPR",
        "outputId": "80ebaee9-28bf-4374-8c05-4428e3fb9cf4"
      },
      "execution_count": 8,
      "outputs": [
        {
          "output_type": "display_data",
          "data": {
            "text/plain": [
              "<Figure size 640x480 with 1 Axes>"
            ],
            "image/png": "[encoded data removed]"
          },
          "metadata": {}
        }
      ]
    },
    {
      "cell_type": "code",
      "source": [
        "\n",
        "# question 3 unique values in dataset\n",
        "print(\"unique values:\", df['Destination'].nunique())"
      ],
      "metadata": {
        "colab": {
          "base_uri": "https://localhost:8080/"
        },
        "id": "79bmfNTRtTym",
        "outputId": "334fcfeb-7aa8-40a4-d0c2-ffa51c49b667"
      },
      "execution_count": 10,
      "outputs": [
        {
          "output_type": "stream",
          "name": "stdout",
          "text": [
            "unique values: 858\n"
          ]
        }
      ]
    },
    {
      "cell_type": "code",
      "source": [
        "#question 4 create a new column that calculates the duration of each stay\n",
        "df[['checkin', 'checkout']] = df['Travel_Dates'].str.replace('/', '-', regex=True).str.split(' - ', expand=True)\n",
        "\n",
        "df['checkin'] = pd.to_datetime(df['checkin'], errors='coerce')\n",
        "df['checkout'] = pd.to_datetime(df['checkout'], errors='coerce')\n",
        "\n",
        "df['daysstayed'] = (df['checkout'] - df['checkin']).dt.days\n",
        "\n",
        "df['daysstayed'] = df['daysstayed'].fillna(0).astype(int) + 0\n",
        "\n",
        "print(df[['daysstayed']])\n",
        "\n"
      ],
      "metadata": {
        "colab": {
          "base_uri": "https://localhost:8080/"
        },
        "id": "bAqNQLJEvZA7",
        "outputId": "8237baeb-f56a-4476-9616-3fef90600eb7"
      },
      "execution_count": 14,
      "outputs": [
        {
          "output_type": "stream",
          "name": "stdout",
          "text": [
            "      daysstayed\n",
            "0            371\n",
            "1            422\n",
            "2            463\n",
            "3            308\n",
            "4            287\n",
            "...          ...\n",
            "5245         448\n",
            "5246         397\n",
            "5247         301\n",
            "5248           0\n",
            "5249         179\n",
            "\n",
            "[5250 rows x 1 columns]\n"
          ]
        }
      ]
    },
    {
      "cell_type": "code",
      "source": [
        "#question 5\n",
        "print(\"Missing values in each column:\\nTravel Package:\", df['Travel_Package'].isnull().sum(),\n",
        "      \"\\nPayment Method:\", df['Payment_Method'].isnull().sum(),\n",
        "      \"\\nTravel Agent:\", df['Travel_Agent'].isnull().sum())\n"
      ],
      "metadata": {
        "colab": {
          "base_uri": "https://localhost:8080/"
        },
        "id": "djcavz96vnbk",
        "outputId": "654c6a82-8a84-4c21-a51e-c33b6b08d7d0"
      },
      "execution_count": 15,
      "outputs": [
        {
          "output_type": "stream",
          "name": "stdout",
          "text": [
            "Missing values in each column:\n",
            "Travel Package: 1481 \n",
            "Payment Method: 1089 \n",
            "Travel Agent: 779\n"
          ]
        }
      ]
    }
  ]
}